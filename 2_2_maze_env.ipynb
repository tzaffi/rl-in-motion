{
 "metadata": {
  "language_info": {
   "codemirror_mode": {
    "name": "ipython",
    "version": 3
   },
   "file_extension": ".py",
   "mimetype": "text/x-python",
   "name": "python",
   "nbconvert_exporter": "python",
   "pygments_lexer": "ipython3",
   "version": "3.8.6-final"
  },
  "orig_nbformat": 2,
  "kernelspec": {
   "name": "python3",
   "display_name": "Python 3",
   "language": "python"
  }
 },
 "nbformat": 4,
 "nbformat_minor": 2,
 "cells": [
  {
   "source": [
    "# Maze Environment"
   ],
   "cell_type": "markdown",
   "metadata": {}
  },
  {
   "cell_type": "code",
   "execution_count": 1,
   "metadata": {},
   "outputs": [],
   "source": [
    "import numpy as np"
   ]
  },
  {
   "cell_type": "code",
   "execution_count": 19,
   "metadata": {},
   "outputs": [],
   "source": [
    "ff = np.chararray((5, 5))\n",
    "ff[:] = \"E\""
   ]
  },
  {
   "cell_type": "code",
   "execution_count": 20,
   "metadata": {},
   "outputs": [
    {
     "output_type": "execute_result",
     "data": {
      "text/plain": [
       "chararray([[b'E', b'E', b'E', b'E', b'E'],\n",
       "           [b'E', b'E', b'E', b'E', b'E'],\n",
       "           [b'E', b'E', b'E', b'E', b'E'],\n",
       "           [b'E', b'E', b'E', b'E', b'E'],\n",
       "           [b'E', b'E', b'E', b'E', b'E']], dtype='|S1')"
      ]
     },
     "metadata": {},
     "execution_count": 20
    }
   ],
   "source": [
    "ff"
   ]
  },
  {
   "cell_type": "code",
   "execution_count": 76,
   "metadata": {},
   "outputs": [
    {
     "output_type": "stream",
     "name": "stdout",
     "text": [
      "+-----------+\n|R| | | | | |\n+-----------+\n| | | | | | |\n+-----------+\n| | | | | | |\n+-----------+\n| | | | | | |\n+-----------+\n| | | | | | |\n+-----------+\n| | | | | | |\n+-----------+\n\n+-----------+\n|R| | | | |X|\n+-----------+\n| | | | | |X|\n+-----------+\n| | |X|X|X|X|\n+-----------+\n| | |X| | |X|\n+-----------+\n| | | | | | |\n+-----------+\n|X|X|X|X|X|X|\n+-----------+\n\n+-----------+\n|R|X| | | |X|\n+-----------+\n| | | | | |X|\n+-----------+\n| | |X|X|X|X|\n+-----------+\n| | |X| | |X|\n+-----------+\n| | | | | | |\n+-----------+\n|X|X|X|X|X|X|\n+-----------+\n\n"
     ]
    }
   ],
   "source": [
    "from typing import Tuple\n",
    "\n",
    "class M:\n",
    "    def __init__(self, wall_coords):\n",
    "        self.m, self.n = 6, 6\n",
    "        self.maze = np.array([[' '] * self.n] * self.m)\n",
    "        for i, j in wall_coords:\n",
    "            self.maze[i][j] = 'X'\n",
    "        self.state = np.array([0, 0])\n",
    "    \n",
    "    def get_state(self) -> np.array:\n",
    "        return self.state.copy()\n",
    "\n",
    "\n",
    "    def __str__(self):\n",
    "        maze = self.maze.copy()\n",
    "        i, j = self.state\n",
    "        maze[i][j] = 'R'\n",
    "        div = '+' + '-' * (2*self.n-1) + '+\\n'\n",
    "        rows = [f'|{row}|\\n' for row in ('|'.join(maze[i]) for i in range(self.m))]\n",
    "        return f\"{div}{div.join(rows)}{div}\"\n",
    "\n",
    "    def game_over(self) -> bool:\n",
    "        return self.maze[self.m][self.n] == 'R'\n",
    "\n",
    "    @classmethod\n",
    "    def _move2vec(cls, move: str) -> np.array:\n",
    "        assert move in ['r', 'l', 'u', 'd'], f\"unrecognized move {move}\"\n",
    "        if move == 'r':\n",
    "            return np.array([0,1])\n",
    "        if move == 'l':\n",
    "            return np.array([0,-1])\n",
    "        if move == 'u':\n",
    "            return np.array([-1,0])\n",
    "        return np.array([1,0])\n",
    "\n",
    "    def _element_at(self, state: np.array) -> str:\n",
    "        return self.maze[tuple(state)]\n",
    "\n",
    "    def move_allowed(self, move: str) -> Tuple[bool, np.array]:\n",
    "        move = self._move2vec(move)\n",
    "        next_state = self.state + move\n",
    "        if any(next_state < 0) or next_state[0] >= self.m or next_state[1] >= self.n:\n",
    "            return False, next_state\n",
    "        if self._element_at(next_state) == 'X':\n",
    "            return False, next_state\n",
    "        return True, next_state\n",
    "\n",
    "    def update(self, move: str) -> np.array:\n",
    "        allowed, next_state = self.move_allowed(move)\n",
    "        assert allowed, f\"cannot move to {tuple(next_state)}\"\n",
    "\n",
    "        self.state = next_state.copy()\n",
    "        return next_state\n",
    "\n",
    "    def get_rewards(self) -> float:\n",
    "        pass\n",
    "\n",
    "print(M([]))\n",
    "\n",
    "m = M([(0,5), (1,5), \n",
    "    (2,2), (2,3), (2,4), (2,5), \n",
    "    (3,2),               (3,5),\n",
    "(5,0), (5,1), (5,2), (5,3), (5,4), (5,5)\n",
    "])\n",
    "print(m)\n",
    "\n",
    "allowed, next_state = m.move_allowed('r')\n",
    "assert allowed\n",
    "assert np.array_equal(next_state, np.array([0,1]))\n",
    "\n",
    "allowed, next_state = m.move_allowed('l')\n",
    "assert not allowed\n",
    "assert np.array_equal(next_state, np.array([0,-1]))\n",
    "\n",
    "allowed, next_state = m.move_allowed('d')\n",
    "assert allowed\n",
    "assert np.array_equal(next_state, np.array([1,0]))\n",
    "\n",
    "allowed, next_state = m.move_allowed('u')\n",
    "assert not allowed\n",
    "assert np.array_equal(next_state, np.array([-1,0]))\n",
    "\n",
    "m = M([(0,1), (0,5), (1,5), \n",
    "    (2,2), (2,3), (2,4), (2,5), \n",
    "    (3,2),               (3,5),\n",
    "(5,0), (5,1), (5,2), (5,3), (5,4), (5,5)\n",
    "])\n",
    "print(m)\n",
    "\n",
    "allowed, next_state = m.move_allowed('r')\n",
    "assert not allowed\n",
    "assert np.array_equal(next_state, np.array([0,1]))\n"
   ]
  },
  {
   "cell_type": "code",
   "execution_count": 53,
   "metadata": {},
   "outputs": [
    {
     "output_type": "execute_result",
     "data": {
      "text/plain": [
       "array([[1, 2, 3],\n",
       "       [4, 5, 6]])"
      ]
     },
     "metadata": {},
     "execution_count": 53
    }
   ],
   "source": []
  },
  {
   "cell_type": "code",
   "execution_count": 59,
   "metadata": {},
   "outputs": [
    {
     "output_type": "execute_result",
     "data": {
      "text/plain": [
       "2"
      ]
     },
     "metadata": {},
     "execution_count": 59
    }
   ],
   "source": [
    "mat[(0,1)]"
   ]
  },
  {
   "cell_type": "code",
   "execution_count": 62,
   "metadata": {},
   "outputs": [
    {
     "output_type": "execute_result",
     "data": {
      "text/plain": [
       "2"
      ]
     },
     "metadata": {},
     "execution_count": 62
    }
   ],
   "source": [
    "mat[np.array([0, 1])]"
   ]
  },
  {
   "cell_type": "code",
   "execution_count": null,
   "metadata": {},
   "outputs": [],
   "source": []
  }
 ]
}